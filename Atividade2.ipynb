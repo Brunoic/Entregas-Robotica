{
 "cells": [
  {
   "cell_type": "markdown",
   "metadata": {},
   "source": [
    "# Atividade 2 - Visão Computacional"
   ]
  },
  {
   "cell_type": "markdown",
   "metadata": {},
   "source": [
    "O entregável de toda esta atividade vai ser um código-fonte em C. \n",
    "\n",
    "Encorajamos vocês a fazerem vídeos demonstrando o resultado e a postar (pode ser privadamente) no YouTube\n",
    "\n"
   ]
  },
  {
   "cell_type": "markdown",
   "metadata": {},
   "source": [
    "Você deve ter uma folha com o padrão anexo. \n",
    "*Dica:* Se não tiver, é possível fazer também com um tablet ou *smartphone*\n",
    " \n",
    "<img src=\"folha_atividade.png\" width=300>"
   ]
  },
  {
   "cell_type": "markdown",
   "metadata": {},
   "source": [
    "## Parte 1 - calibração\n",
    "\n",
    "Ouça a explicação do professor sobre o modelo de câmera *pinhole*  e desenhe a medida $f$ que separa o plano focal da pupila da câmera"
   ]
  },
  {
   "cell_type": "markdown",
   "metadata": {},
   "source": [
    "Detalhe como calculou $f$"
   ]
  },
  {
   "cell_type": "code",
   "execution_count": 4,
   "metadata": {},
   "outputs": [
    {
     "name": "stdout",
     "output_type": "stream",
     "text": [
      "OpenCV Version : 3.4.4 \n",
      "375\n"
     ]
    }
   ],
   "source": [
    "%matplotlib inline\n",
    "from matplotlib import pyplot as plt\n",
    "import cv2\n",
    "import numpy as np\n",
    "import time as t\n",
    "from ipywidgets import widgets, interact, interactive, FloatSlider, IntSlider\n",
    "import math\n",
    "print (\"OpenCV Version : %s \" % cv2.__version__)\n",
    "\n",
    "h0 = 14\n",
    "h1 = 420/2\n",
    "d = 25\n",
    "f = ((d*h1)/h0)\n",
    "print(f)"
   ]
  },
  {
   "cell_type": "markdown",
   "metadata": {},
   "source": [
    "## Parte 2\n",
    "\n",
    "Modifique um dos exemplos `draw_circles_video.py` ou `videoplay.py` para passar a ler dados da webcam e identificar o círculo magenta e o círculo ciano, usando o `inRange`"
   ]
  },
  {
   "cell_type": "code",
   "execution_count": 5,
   "metadata": {},
   "outputs": [],
   "source": [
    "colorpicker = widgets.ColorPicker(\n",
    "    concise=False,\n",
    "    description='Escolha uma cor',\n",
    "    value='#005490',\n",
    "    disabled=False\n",
    ")"
   ]
  },
  {
   "cell_type": "code",
   "execution_count": 6,
   "metadata": {},
   "outputs": [],
   "source": [
    "#hsv1, hsv2 = aux.ranges(colorpicker.value)\n",
    "#print(hsv1)\n",
    "#print(hsv2)"
   ]
  },
  {
   "cell_type": "code",
   "execution_count": 7,
   "metadata": {},
   "outputs": [
    {
     "ename": "SyntaxError",
     "evalue": "invalid syntax (<ipython-input-7-a087b1f4e9fe>, line 29)",
     "output_type": "error",
     "traceback": [
      "\u001b[0;36m  File \u001b[0;32m\"<ipython-input-7-a087b1f4e9fe>\"\u001b[0;36m, line \u001b[0;32m29\u001b[0m\n\u001b[0;31m    cv2.putText(img,(f\"Angulo: {angulo_g} graus\"),(100,100), font, 1,(0,0,255),2)\u001b[0m\n\u001b[0m                                               ^\u001b[0m\n\u001b[0;31mSyntaxError\u001b[0m\u001b[0;31m:\u001b[0m invalid syntax\n"
     ]
    }
   ],
   "source": [
    "#Acessa a webcam\n",
    "cap = cv2.VideoCapture(0)\n",
    "\n",
    "#define o delta de HSV que será analizado nas cores magenta e azul.\n",
    "baixo_azul = np.array([92,50,50])\n",
    "alto_azul = np.array([102,255,255])\n",
    "\n",
    "baixo_magenta = np.array([150,50,50])\n",
    "alto_magenta = np.array([180,255,255])\n",
    "\n",
    "#Define a fonte a ser printada na tela e define o angulo e distancia como indefinido antes do loop para evitar um erro.\n",
    "font = cv2.FONT_HERSHEY_DUPLEX\n",
    "\n",
    "angulo_g = \"0\"\n",
    "distancia = \"0\"\n",
    "\n",
    "#Começa o loop infinito de leitura de imagem e aplica um gaussian blur para melhorar o desempenho da identificação.\n",
    "while True:\n",
    "    ret, img = cap.read()\n",
    "    captura = cv2.GaussianBlur(img,(5,5),10)\n",
    "    hsv = cv2.cvtColor(captura, cv2.COLOR_BGR2HSV)\n",
    "\n",
    "    #Cria mascaras que delimitam pelas cores magenta e azul e pela função in Range os circulos\n",
    "    mask_azul = cv2.inRange(hsv, baixo_azul, alto_azul)\n",
    "    mask_magenta = cv2.inRange(hsv, baixo_magenta, alto_magenta)\n",
    "    \n",
    " #Vira a imagem para melhor visualização e printa na imagem os valores de distancia e do angulo\n",
    "    img = cv2.flip(img, 1)\n",
    "    cv2.putText(img,(f\"Angulo: {angulo_g} graus\"),(100,100), font, 1,(0,0,255),2)\n",
    "    cv2.putText(img, (f\"Distancia: {distancia} cm\"),(140,140), font, 1,(0,0,255),2)\n",
    "    cv2.imshow(\"output\", img)\n",
    "    k = cv2.waitKey(30) & 0xff\n",
    "    if k == 27:\n",
    "        break\n",
    "        \n",
    "cap.release()\n",
    "cv2.destroyAllWindows()"
   ]
  },
  {
   "cell_type": "markdown",
   "metadata": {
    "collapsed": true
   },
   "source": [
    "\n",
    "\n",
    "## Parte 3"
   ]
  },
  {
   "cell_type": "markdown",
   "metadata": {},
   "source": [
    "Assumindo que a folha se mantém sempre paralela ao plano de imagem da câmera, imprima a distância entre a folha e sua câmera"
   ]
  },
  {
   "cell_type": "code",
   "execution_count": null,
   "metadata": {},
   "outputs": [],
   "source": [
    "#Acessa a webcam\n",
    "cap = cv2.VideoCapture(0)\n",
    "\n",
    "#define o delta de HSV que será analizado nas cores magenta e azul.\n",
    "baixo_azul = np.array([92,50,50])\n",
    "alto_azul = np.array([102,255,255])\n",
    "\n",
    "baixo_magenta = np.array([150,50,50])\n",
    "alto_magenta = np.array([180,255,255])\n",
    "\n",
    "#Define a fonte a ser printada na tela e define o angulo e distancia como indefinido antes do loop para evitar um erro.\n",
    "font = cv2.FONT_HERSHEY_DUPLEX\n",
    "\n",
    "angulo_g = \"0\"\n",
    "distancia = \"0\"\n",
    "\n",
    "#Começa o loop infinito de leitura de imagem e aplica um gaussian blur para melhorar o desempenho da identificação.\n",
    "while True:\n",
    "    ret, img = cap.read()\n",
    "    captura = cv2.GaussianBlur(img,(5,5),10)\n",
    "    hsv = cv2.cvtColor(captura, cv2.COLOR_BGR2HSV)\n",
    "\n",
    "    #Cria mascaras que delimitam pelas cores magenta e azul e pela função in Range os circulos\n",
    "    mask_azul = cv2.inRange(hsv, baixo_azul, alto_azul)\n",
    "    mask_magenta = cv2.inRange(hsv, baixo_magenta, alto_magenta)\n",
    "\n",
    "    #mescla as duas mascaras em uma para aplicar-las em nossa imagem\n",
    "    mask = mask_azul + mask_magenta\n",
    "    \n",
    "    #Detecta os circulos pela função HoughCircles\n",
    "    circulos = cv2.HoughCircles (mask, cv2.HOUGH_GRADIENT, 3, 20)\n",
    "    \n",
    " \n",
    "    #Se houver algum circulo sendo detectado desenha o seu ponto médio\n",
    "    if circulos is not None:\n",
    "        circulos = np.round(circulos[0, :]).astype(\"int\")\n",
    "        for (x, y, r) in circulos:\n",
    "            cv2.circle(img, (x, y), r, (0, 255, 0), 4)\n",
    "            cv2.rectangle(img, (x - 5, y - 5), (x + 5, y + 5), (0, 128, 255), -1)\n",
    "            hpix = 2*r\n",
    "        #Se só dois circulos forem identificados desenhamos uma linha ligando os dois centros\n",
    "        if len(circulos) == 2:\n",
    "            distancia = round((int(f))*int(h0)/int(hpix), 3)\n",
    "            \n",
    "    #Vira a imagem para melhor visualização e printa na imagem os valores de distancia e do angulo\n",
    "    img = cv2.flip(mask, 1)\n",
    "    cv2.putText(img, (f\"Distancia: {distancia} cm\"),(140,140), font, 1,(0,0,255),2)\n",
    "    cv2.imshow(\"output\", img)\n",
    "    k = cv2.waitKey(30) & 0xff\n",
    "    if k == 27:\n",
    "        break\n",
    "        \n",
    "cap.release()\n",
    "cv2.destroyAllWindows()"
   ]
  },
  {
   "cell_type": "markdown",
   "metadata": {},
   "source": [
    "## Parte 4\n",
    "\n",
    "Trace uma linha entre os centros do círculo magenta e do círculo ciano.\n",
    "\n",
    "Imprima na tela o ângulo entre esta linha e a horizontal"
   ]
  },
  {
   "cell_type": "code",
   "execution_count": null,
   "metadata": {},
   "outputs": [],
   "source": [
    "#Acessa a webcam\n",
    "cap = cv2.VideoCapture(0)\n",
    "\n",
    "#define o delta de HSV que será analizado nas cores magenta e azul.\n",
    "baixo_azul = np.array([92,50,50])\n",
    "alto_azul = np.array([102,255,255])\n",
    "\n",
    "baixo_magenta = np.array([150,50,50])\n",
    "alto_magenta = np.array([180,255,255])\n",
    "\n",
    "#Define a fonte a ser printada na tela e define o angulo e distancia como indefinido antes do loop para evitar um erro.\n",
    "font = cv2.FONT_HERSHEY_DUPLEX\n",
    "\n",
    "angulo_g = \"0\"\n",
    "distancia = \"0\"\n",
    "\n",
    "#Começa o loop infinito de leitura de imagem e aplica um gaussian blur para melhorar o desempenho da identificação.\n",
    "while True:\n",
    "    ret, img = cap.read()\n",
    "    captura = cv2.GaussianBlur(img,(5,5),10)\n",
    "    hsv = cv2.cvtColor(captura, cv2.COLOR_BGR2HSV)\n",
    "\n",
    "    #Cria mascaras que delimitam pelas cores magenta e azul e pela função in Range os circulos\n",
    "    mask_azul = cv2.inRange(hsv, baixo_azul, alto_azul)\n",
    "    mask_magenta = cv2.inRange(hsv, baixo_magenta, alto_magenta)\n",
    "\n",
    "    #mescla as duas mascaras em uma para aplicar-las em nossa imagem\n",
    "    mask = mask_azul + mask_magenta\n",
    "    \n",
    "    \n",
    "    #Detecta os circulos pela função HoughCircles\n",
    "    circulos = cv2.HoughCircles (mask, cv2.HOUGH_GRADIENT, 3, 20)\n",
    "    \n",
    " \n",
    "    #Se houver algum circulo sendo detectado desenha o seu ponto médio\n",
    "    if circulos is not None:\n",
    "        circulos = np.round(circulos[0, :]).astype(\"int\")\n",
    "        for (x, y, r) in circulos:\n",
    "            cv2.circle(img, (x, y), r, (0, 255, 0), 4)\n",
    "            cv2.rectangle(img, (x - 5, y - 5), (x + 5, y + 5), (0, 128, 255), -1)\n",
    "            hpix = 2*r\n",
    "        #Se só dois circulos forem identificados desenhamos uma linha ligando os dois centros\n",
    "        if len(circulos) == 2:\n",
    "            x1 = circulos[0][0]\n",
    "            y1 = circulos[0][1]\n",
    "            x2 = circulos[1][0]\n",
    "            y2 = circulos[1][1]\n",
    "            cv2.line(img,(x1,y1),(x2,y2),(255,0,0),5)\n",
    "            distancia = round((int(f))*int(h0)/int(hpix), 3)\n",
    "            angulo_g = round(math.degrees(np.arctan((y2-y1)/(x2 - x1))), 3)\n",
    "            \n",
    "            \n",
    "    #Vira a imagem para melhor visualização e printa na imagem os valores de distancia e do angulo\n",
    "    img = cv2.flip(img, 1)\n",
    "    cv2.putText(img,(f\"Angulo: {angulo_g} graus\"),(100,100), font, 1,(0,0,255),2)\n",
    "    cv2.putText(img, (f\"Distancia: {distancia} cm\"),(140,140), font, 1,(0,0,255),2)\n",
    "    cv2.imshow(\"output\", img)\n",
    "    k = cv2.waitKey(30) & 0xff\n",
    "    if k == 27:\n",
    "        break\n",
    "        \n",
    "cap.release()\n",
    "cv2.destroyAllWindows()"
   ]
  },
  {
   "cell_type": "markdown",
   "metadata": {},
   "source": [
    "## Parte 5\n",
    "\n",
    "Usando transformada de Hough, desenhe um círculo sobre o círculo ciano e outro sobre o círculo magenta.\n",
    "\n",
    "**Desafio bônus**: ser capaz de eliminar circulos espúrios (aqueles que não são os da folha)"
   ]
  },
  {
   "cell_type": "code",
   "execution_count": null,
   "metadata": {},
   "outputs": [],
   "source": [
    "#Acessa a webcam\n",
    "cap = cv2.VideoCapture(0)\n",
    "\n",
    "#define o delta de HSV que será analizado nas cores magenta e azul.\n",
    "baixo_azul = np.array([92,50,50])\n",
    "alto_azul = np.array([102,255,255])\n",
    "\n",
    "baixo_magenta = np.array([150,50,50])\n",
    "alto_magenta = np.array([180,255,255])\n",
    "\n",
    "#Define a fonte a ser printada na tela e define o angulo e distancia como indefinido antes do loop para evitar um erro.\n",
    "font = cv2.FONT_HERSHEY_DUPLEX\n",
    "\n",
    "angulo_g = \"0\"\n",
    "distancia = \"0\"\n",
    "\n",
    "#Começa o loop infinito de leitura de imagem e aplica um gaussian blur para melhorar o desempenho da identificação.\n",
    "while True:\n",
    "    ret, img = cap.read()\n",
    "    captura = cv2.GaussianBlur(img,(5,5),10)\n",
    "    hsv = cv2.cvtColor(captura, cv2.COLOR_BGR2HSV)\n",
    "\n",
    "    #Cria mascaras que delimitam pelas cores magenta e azul e pela função in Range os circulos\n",
    "    mask_azul = cv2.inRange(hsv, baixo_azul, alto_azul)\n",
    "    mask_magenta = cv2.inRange(hsv, baixo_magenta, alto_magenta)\n",
    "\n",
    "    #mescla as duas mascaras em uma para aplicar-las em nossa imagem\n",
    "    mask = mask_azul + mask_magenta\n",
    "    \n",
    "    \n",
    "    #Detecta os circulos pela função HoughCircles\n",
    "    circulos = cv2.HoughCircles (mask, cv2.HOUGH_GRADIENT, 3, 20)\n",
    "    \n",
    " \n",
    "    #Se houver algum circulo sendo detectado desenha o seu ponto médio\n",
    "    if circulos is not None:\n",
    "        circulos = np.round(circulos[0, :]).astype(\"int\")\n",
    "        for (x, y, r) in circulos:\n",
    "            cv2.circle(img, (x, y), r, (0, 255, 0), 4)\n",
    "            cv2.rectangle(img, (x - 5, y - 5), (x + 5, y + 5), (0, 128, 255), -1)\n",
    "            \n",
    "        #Se só dois circulos forem identificados desenhamos uma linha ligando os dois centros\n",
    "        if len(circulos) == 2:\n",
    "            x1 = circulos[0][0]\n",
    "            y1 = circulos[0][1]\n",
    "            x2 = circulos[1][0]\n",
    "            y2 = circulos[1][1]\n",
    "            hpix = (((x1 - x2)**2) + ((y1 - y2)**2))**0.5\n",
    "            cv2.line(img,(x1,y1),(x2,y2),(255,0,0),5)\n",
    "            distancia = round((int(f))*int(h0)/int(hpix), 3)\n",
    "            angulo_g = round(math.degrees(np.arctan((y2-y1)/(x2 - x1))), 3)\n",
    "            \n",
    "            \n",
    "    #Vira a imagem para melhor visualização e printa na imagem os valores de distancia e do angulo\n",
    "    img = cv2.flip(img, 1)\n",
    "    cv2.putText(img,(f\"Angulo: {angulo_g} graus\"),(100,100), font, 1,(0,0,255),2)\n",
    "    cv2.putText(img, (f\"Distancia: {distancia} cm\"),(140,140), font, 1,(0,0,255),2)\n",
    "    cv2.imshow(\"output\", img)\n",
    "    k = cv2.waitKey(30) & 0xff\n",
    "    if k == 27:\n",
    "        break\n",
    "        \n",
    "cap.release()\n",
    "cv2.destroyAllWindows()"
   ]
  },
  {
   "cell_type": "markdown",
   "metadata": {},
   "source": [
    "## Parte 6\n",
    "\n",
    "Usando `SIFT`, identifique o escrito *Insper* na folha"
   ]
  },
  {
   "cell_type": "code",
   "execution_count": null,
   "metadata": {},
   "outputs": [],
   "source": [
    "import numpy as np\n",
    "import cv2\n",
    "from math import pi\n",
    "import matplotlib.cm as cm\n",
    "\n",
    "# Número mínimo de pontos correspondentes\n",
    "MIN_MATCH_COUNT = 10\n",
    "\n",
    "img_original = cv2.imread('insper.png',0)\n",
    "sift = cv2.xfeatures2d.SIFT_create()\n",
    "kp1, des1 = sift.detectAndCompute(img_original ,None)\n",
    "\n",
    "FLANN_INDEX_KDTREE = 0\n",
    "index_params = dict(algorithm = FLANN_INDEX_KDTREE, trees = 5)\n",
    "search_params = dict(checks = 50)\n",
    "flann = cv2.FlannBasedMatcher(index_params, search_params)\n",
    "\n",
    "cap = cv2.VideoCapture(0)\n",
    "\n",
    "while True:\n",
    "    ret, img = cap.read()\n",
    "    kp2, des2 = sift.detectAndCompute(img,None)\n",
    "    matches = flann.knnMatch(des1,des2,k=2)\n",
    "\n",
    "    good = []\n",
    "    for m,n in matches:\n",
    "        if m.distance < 0.7*n.distance:\n",
    "            good.append(m)\n",
    "\n",
    "    if len(good)>MIN_MATCH_COUNT:\n",
    "        src_pts = np.float32([ kp1[m.queryIdx].pt for m in good ]).reshape(-1,1,2)\n",
    "        dst_pts = np.float32([ kp2[m.trainIdx].pt for m in good ]).reshape(-1,1,2)\n",
    "\n",
    "        M, mask = cv2.findHomography(src_pts, dst_pts, cv2.RANSAC,5.0)\n",
    "        matchesMask = mask.ravel().tolist()\n",
    "\n",
    "        h,w = img_original.shape\n",
    "        pts = np.float32([ [0,0],[0,h-1],[w-1,h-1],[w-1,0] ]).reshape(-1,1,2)\n",
    "\n",
    "        dst = cv2.perspectiveTransform(pts,M)\n",
    "        img2b = cv2.polylines(img,[np.int32(dst)],True,(255,0,0),3, cv2.LINE_AA)\n",
    "\n",
    "    else:\n",
    "        print(\"Not enough matches are found - %d/%d\" % (len(good),MIN_MATCH_COUNT))\n",
    "        matchesMask = None\n",
    "\n",
    "    draw_params = dict(matchColor = (0,255,0), # draw matches in green color\n",
    "                singlePointColor = None,\n",
    "                matchesMask = matchesMask, # draw only inliers\n",
    "                flags = 2)\n",
    "    \n",
    "    img = cv2.flip(img, 1)\n",
    "    cv2.imshow(\"output\", img)\n",
    "    k = cv2.waitKey(30) & 0xff\n",
    "    if k == 27:\n",
    "        break\n",
    "cap.release()\n",
    "cv2.destroyAllWindows()"
   ]
  },
  {
   "cell_type": "code",
   "execution_count": null,
   "metadata": {},
   "outputs": [],
   "source": []
  }
 ],
 "metadata": {
  "kernelspec": {
   "display_name": "Python 3",
   "language": "python",
   "name": "python3"
  },
  "language_info": {
   "codemirror_mode": {
    "name": "ipython",
    "version": 2
   },
   "file_extension": ".py",
   "mimetype": "text/x-python",
   "name": "python",
   "nbconvert_exporter": "python",
   "pygments_lexer": "ipython2",
   "version": "2.7.15rc1"
  }
 },
 "nbformat": 4,
 "nbformat_minor": 2
}
